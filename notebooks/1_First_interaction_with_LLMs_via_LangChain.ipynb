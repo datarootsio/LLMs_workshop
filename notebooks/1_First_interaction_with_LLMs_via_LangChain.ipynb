{
  "cells": [
    {
      "cell_type": "markdown",
      "metadata": {
        "colab_type": "text",
        "id": "view-in-github"
      },
      "source": [
        "<a href=\"https://colab.research.google.com/github/andreabenevenut/LLM_workshop/blob/main/notebooks/1_First_interaction_with_LLMs_via_LangChain.ipynb\" target=\"_parent\"><img src=\"https://colab.research.google.com/assets/colab-badge.svg\" alt=\"Open In Colab\"/></a>"
      ]
    },
    {
      "cell_type": "markdown",
      "metadata": {
        "id": "2NCTte9wmkHT"
      },
      "source": [
        "# OUR FIRST INTERACTION WITH LARGE LANGUAGE MODELS\n",
        "\n",
        "This notebook provides an introductory exploration of Large Language Models (LLMs), showcasing how to interact with them using specific inputs to generate text, conduct diverse language tasks, and leverage the advanced capabilities of state-of-the-art language understanding.\n",
        "\n",
        "While employing a single LLM is enough for basic applications, more intricate tasks often necessitate chaining LLMs. Such chaining involves linking LLMs either with one another or with additional components.\n",
        "\n",
        "That is where the Python library [LangChain](https://www.langchain.com/) comes in handy. LangChain is an application framework designed to leverage language models' power.\n",
        "One of the most important components of such library is the so called \"chain\".\n",
        "A chain refers to a sequence of interconnected components designed to accomplish a particular task. This sequence dictates the flow of data and tasks within the AI system.\n",
        "\n",
        "For instance, a simple chain could comprise the following components:\n",
        "\n",
        "User Input ➡️ Large Language Model ➡️ Output Formatter"
      ]
    },
    {
      "cell_type": "markdown",
      "metadata": {
        "id": "8-mi3R-LuEa5"
      },
      "source": [
        "# 0: Set up"
      ]
    },
    {
      "cell_type": "code",
      "execution_count": null,
      "metadata": {
        "id": "QALto4D3jtQ0"
      },
      "outputs": [],
      "source": [
        "!git clone https://github.com/datarootsio/LLMs_workshop.git"
      ]
    },
    {
      "cell_type": "code",
      "execution_count": null,
      "metadata": {
        "id": "2-7WKnHep9wb"
      },
      "outputs": [],
      "source": [
        "!pip install -r \"/content/LLMs_workshop/requirements.txt\""
      ]
    },
    {
      "cell_type": "code",
      "execution_count": null,
      "metadata": {
        "id": "LD91ZkHWp9wc"
      },
      "outputs": [],
      "source": [
        "import os\n",
        "os.environ[\"OPENAI_API_KEY\"] = \"\""
      ]
    },
    {
      "cell_type": "code",
      "execution_count": null,
      "metadata": {
        "id": "88fZzPxXp9wc"
      },
      "outputs": [],
      "source": [
        "MODEL_NAME = \"gpt-3.5-turbo-1106\""
      ]
    },
    {
      "cell_type": "markdown",
      "metadata": {
        "id": "5CBqNUL_qLlG"
      },
      "source": [
        "# 1: First API call to use LLMs"
      ]
    },
    {
      "cell_type": "code",
      "execution_count": null,
      "metadata": {},
      "outputs": [],
      "source": [
        "from langchain.llms import OpenAI"
      ]
    },
    {
      "cell_type": "code",
      "execution_count": null,
      "metadata": {
        "id": "TfWhpnGo-T85"
      },
      "outputs": [],
      "source": [
        "llm = OpenAI(temperature=1)"
      ]
    },
    {
      "cell_type": "code",
      "execution_count": null,
      "metadata": {
        "id": "B1IjEdeF-xIK"
      },
      "outputs": [],
      "source": [
        "query = \"\"\"\n",
        "I have a cat and I would like to have a cool name for it, related to summer.\n",
        "Suggest me 5 cool names for my pet.\n",
        "\"\"\""
      ]
    },
    {
      "cell_type": "code",
      "execution_count": null,
      "metadata": {
        "id": "b48cutKn_WlS"
      },
      "outputs": [],
      "source": [
        "print(llm(query))"
      ]
    },
    {
      "cell_type": "markdown",
      "metadata": {
        "id": "3RBifm-DDi6T"
      },
      "source": [
        "# 2: Prompt engineering via templates"
      ]
    },
    {
      "cell_type": "code",
      "execution_count": null,
      "metadata": {
        "id": "pqrny29w_YdO"
      },
      "outputs": [],
      "source": [
        "from langchain.prompts import PromptTemplate\n",
        "from langchain.chains import LLMChain"
      ]
    },
    {
      "cell_type": "code",
      "execution_count": null,
      "metadata": {
        "id": "YWMbUmqgDXsi"
      },
      "outputs": [],
      "source": [
        "my_prompt = PromptTemplate(\n",
        "    input_variables = [\"animal\", \"season\", \"nicknames_numbers\"],\n",
        "    input_types={\n",
        "        \"animal\": str,\n",
        "        \"season\": str,\n",
        "        \"nicknames_numbers\": int\n",
        "        },\n",
        "    template = \"\"\"\n",
        "    I have a {animal} and I would like to have a cool name for it, related to {season}.\n",
        "    Suggest me {nicknames_numbers} cool names for my pet.\n",
        "    \"\"\"\n",
        "    )"
      ]
    },
    {
      "cell_type": "code",
      "execution_count": null,
      "metadata": {
        "id": "SF7vmJndELXE"
      },
      "outputs": [],
      "source": [
        "pet_chain = LLMChain(llm=llm, prompt=my_prompt)"
      ]
    },
    {
      "cell_type": "code",
      "execution_count": null,
      "metadata": {
        "id": "aWyiKEAwFNGN"
      },
      "outputs": [],
      "source": [
        "answer = pet_chain({\"animal\": \"dog\", \"season\": \"winter\", \"nicknames_numbers\": 2})\n",
        "print(answer['text'])"
      ]
    },
    {
      "cell_type": "code",
      "execution_count": null,
      "metadata": {
        "id": "fGGiHP_wFeC-"
      },
      "outputs": [],
      "source": [
        "answer = pet_chain({\"animal\": \"hamster\", \"season\": \"spring\", \"nicknames_numbers\": 10})\n",
        "print(answer['text'])"
      ]
    },
    {
      "cell_type": "markdown",
      "metadata": {
        "id": "JErNbeauJjML"
      },
      "source": [
        "# 3: Exercise: Dataroots needs you!"
      ]
    },
    {
      "cell_type": "markdown",
      "metadata": {
        "id": "Ye0kahLJkSkE"
      },
      "source": [
        "We need to help Silke for Dataroots recruitment via social networks. It would be nice to let Silke decide a few variables and then generate results that could help her create the best Instagram or Linkedin post.\n",
        "\n",
        "Use LangChain simple chain, prompt engineering and templates to achieve the task.\n",
        "\n",
        "Imagine that Silke would like to decide:\n",
        "- social_network\n",
        "- tone (e.g. formal or informal)\n",
        "- max number of words\n",
        "- position\n",
        "\n",
        "Be creative and play around to grasp how interactions with LLMs work."
      ]
    },
    {
      "cell_type": "code",
      "execution_count": null,
      "metadata": {
        "id": "KWJOxzqfNkKj"
      },
      "outputs": [],
      "source": []
    }
  ],
  "metadata": {
    "colab": {
      "authorship_tag": "ABX9TyOx+i536x+MklRwzJ+2VoAI",
      "collapsed_sections": [
        "8-mi3R-LuEa5",
        "5CBqNUL_qLlG",
        "3RBifm-DDi6T",
        "JErNbeauJjML"
      ],
      "include_colab_link": true,
      "provenance": []
    },
    "kernelspec": {
      "display_name": "Python 3",
      "name": "python3"
    },
    "language_info": {
      "name": "python"
    }
  },
  "nbformat": 4,
  "nbformat_minor": 0
}
